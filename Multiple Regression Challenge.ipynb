{
 "cells": [
  {
   "cell_type": "code",
   "execution_count": 1,
   "metadata": {
    "collapsed": true
   },
   "outputs": [],
   "source": [
    "import pandas as pd\n",
    "import numpy as np\n",
    "import matplotlib.pyplot as plt\n",
    "import seaborn as sns\n",
    "import math\n",
    "from matplotlib.mlab import PCA as mlabPCA\n",
    "from sklearn.preprocessing import StandardScaler\n",
    "from sklearn.decomposition import PCA\n",
    "import statsmodels.api as sm\n",
    "from sklearn.linear_model import LogisticRegression\n",
    "from sklearn import linear_model\n",
    "from sklearn import preprocessing\n",
    "%matplotlib inline\n"
   ]
  },
  {
   "cell_type": "code",
   "execution_count": 2,
   "metadata": {
    "collapsed": false,
    "scrolled": false
   },
   "outputs": [],
   "source": [
    "data = pd.read_csv('table_8_offenses_known_to_law_enforcement_florida_by_city_2013.csv', sep=None, thousands=',', engine='python')[4:294]\n",
    "# data.head()\n",
    "\n",
    "\n",
    "data.drop(['Unnamed: 13', 'Unnamed: 5'], 1, inplace=True)\n",
    "\n",
    "data = data.replace(np.nan, '0')\n",
    "# data = data.dropna(axis=0)\n",
    "\n",
    "\n",
    "\n",
    "data.columns = ['City', 'Population', 'Violent Crime', 'Murder', 'Rape', 'Robbery', 'Aggravated Assault', \n",
    "                'Property Crime', 'Burglary', 'Larceny', 'Vehicle Theft', 'Arson']\n",
    "\n",
    "\n",
    "\n",
    "# print(city)\n",
    "\n",
    "# city = data['City']\n",
    "\n",
    "population = data['Population'].astype(int)\n",
    "violent_crime = data['Violent Crime'].astype(int)\n",
    "murder = data['Murder'].astype(int)\n",
    "rape = data['Rape'].astype(int)\n",
    "robbery = data['Robbery'].astype(int)\n",
    "agg_assault = data['Aggravated Assault'].astype(int)\n",
    "prop_crime = data['Property Crime'].astype(int)\n",
    "burglary = data['Burglary'].astype(int)\n",
    "larceny = data['Larceny'].astype(int)\n",
    "vehicle_theft = data['Vehicle Theft'].astype(int)\n",
    "arson = data['Arson'].astype(int)\n",
    "\n",
    "features = pd.get_dummies(population, columns=None)\n",
    "crime = pd.get_dummies(population)\n",
    "city = pd.get_dummies(population)\n",
    "\n",
    "data.drop(['City'], 1, inplace=True)\n",
    "\n",
    "features.drop(features.columns, axis=1, inplace=True)\n",
    "\n",
    "city['Population'] = data['Population']\n",
    "\n",
    "\n",
    "features['Population'] = (np.where(data['Population'].values.astype(int) > 100000, 1, 0))\n",
    "features['Violent_Crime'] = data['Violent Crime'].values.astype(int)\n",
    "features['Violent_Crime2'] = (data['Violent Crime'].values.astype(int) + 100) ** 2\n",
    "features['Violent_Crime3'] = (data['Violent Crime'].values.astype(int) + 100) ** 3\n",
    "features['Violent_Crime_Sqrt'] = (data ['Violent Crime'].values.astype(int) + 100) ** .5\n",
    "features['Murder'] = data['Murder'].values.astype(int)\n",
    "features['Murder2'] = (data['Murder'].values.astype(int) + 100) ** 2\n",
    "features['Murder3'] = (data['Murder'].values.astype(int) + 100) ** 3\n",
    "features['Murder_Sqrt'] = (data['Murder'].values.astype(int) + 100) ** .5\n",
    "features['Rape'] = data['Rape'].values.astype(int)\n",
    "features['Robbery'] = data['Robbery'].values.astype(int)\n",
    "features['Aggravated_Assault'] = data['Aggravated Assault'].values.astype(int)\n",
    "features['Property_Crime'] = data['Property Crime'].values.astype(int)\n",
    "features['Burglary'] = data['Burglary'].values.astype(int)\n",
    "features['Larceny'] = data['Larceny'].values.astype(int)\n",
    "features['Vehicle_Theft'] = data['Vehicle Theft'].values.astype(int)\n",
    "features['Arson'] = data['Arson'].values.astype(int)\n",
    "\n",
    "# print(features['Large_City'])\n",
    "\n",
    "lrg_population = features['Population']\n",
    "# crime['Violent_Crime'] = (np.where(data['Violent Crime'].values.astype(int) > violent_crime.values.astype(int).mean(), 1, 0))\n",
    "\n",
    "crime['Violent_Crime'] = data['Violent Crime'].astype(int).dropna()\n",
    "\n",
    "# features.shape\n",
    "# print(violent_crime)\n",
    "\n"
   ]
  },
  {
   "cell_type": "code",
   "execution_count": 3,
   "metadata": {
    "collapsed": false
   },
   "outputs": [
    {
     "name": "stdout",
     "output_type": "stream",
     "text": [
      "  Population Violent Crime Murder Rape Robbery Aggravated Assault  \\\n",
      "4       9338            36      0    2       2                 32   \n",
      "5      42040           150      0    8      37                105   \n",
      "6        536             1      0    0       0                  1   \n",
      "7       2269             1      0    0       0                  1   \n",
      "8      45397           178      1   11      57                109   \n",
      "\n",
      "  Property Crime Burglary Larceny Vehicle Theft Arson  \n",
      "4            166       40     120             6     1  \n",
      "5           1564      300    1180            84     3  \n",
      "6              3        3       0             0     0  \n",
      "7             35        8      27             0     0  \n",
      "8           1527      231    1202            94     6  \n"
     ]
    },
    {
     "data": {
      "image/png": "[encoded data removed]",
      "text/plain": [
       "<matplotlib.figure.Figure at 0x1160c7748>"
      ]
     },
     "metadata": {},
     "output_type": "display_data"
    },
    {
     "data": {
      "image/png": "[encoded data removed]",
      "text/plain": [
       "<matplotlib.figure.Figure at 0x1160d3f98>"
      ]
     },
     "metadata": {},
     "output_type": "display_data"
    },
    {
     "data": {
      "image/png": "[encoded data removed]",
      "text/plain": [
       "<matplotlib.figure.Figure at 0x11966e6a0>"
      ]
     },
     "metadata": {},
     "output_type": "display_data"
    }
   ],
   "source": [
    "# Take a peek.\n",
    "print(data.head())\n",
    "\n",
    "# Prettier plots are better.\n",
    "sns.set_style(\"white\")\n",
    "\n",
    "# Bivariate relationships of predictors to admissions outcome.\n",
    "sns.boxplot(x=\"Population\", y=\"Violent_Crime\", data=features.astype(int))\n",
    "plt.show()\n",
    "sns.boxplot(x=\"Population\", y=\"Murder\", data=features.astype(int))\n",
    "plt.show()\n",
    "\n",
    "# Relationship between predictors.\n",
    "sns.regplot(x='Violent_Crime', y='Murder', data=features.astype(int))\n",
    "plt.show()"
   ]
  },
  {
   "cell_type": "markdown",
   "metadata": {},
   "source": [
    "## Logistic Regression"
   ]
  },
  {
   "cell_type": "code",
   "execution_count": 4,
   "metadata": {
    "collapsed": false
   },
   "outputs": [
    {
     "name": "stdout",
     "output_type": "stream",
     "text": [
      "Optimization terminated successfully.\n",
      "         Current function value: 0.113068\n",
      "         Iterations 9\n",
      "                           Logit Regression Results                           \n",
      "==============================================================================\n",
      "Dep. Variable:             Population   No. Observations:                  290\n",
      "Model:                          Logit   Df Residuals:                      287\n",
      "Method:                           MLE   Df Model:                            2\n",
      "Date:                Sun, 25 Jun 2017   Pseudo R-squ.:                  0.5649\n",
      "Time:                        16:01:34   Log-Likelihood:                -32.790\n",
      "converged:                       True   LL-Null:                       -75.353\n",
      "                                        LLR p-value:                 3.273e-19\n",
      "=================================================================================\n",
      "                    coef    std err          z      P>|z|      [95.0% Conf. Int.]\n",
      "---------------------------------------------------------------------------------\n",
      "Violent_Crime     0.0052      0.002      3.392      0.001         0.002     0.008\n",
      "Murder            0.1541      0.108      1.429      0.153        -0.057     0.365\n",
      "intercept        -4.8317      0.603     -8.013      0.000        -6.013    -3.650\n",
      "=================================================================================\n"
     ]
    },
    {
     "name": "stderr",
     "output_type": "stream",
     "text": [
      "/anaconda/lib/python3.6/site-packages/ipykernel/__main__.py:6: SettingWithCopyWarning: \n",
      "A value is trying to be set on a copy of a slice from a DataFrame.\n",
      "Try using .loc[row_indexer,col_indexer] = value instead\n",
      "\n",
      "See the caveats in the documentation: http://pandas.pydata.org/pandas-docs/stable/indexing.html#indexing-view-versus-copy\n"
     ]
    }
   ],
   "source": [
    "# Declare predictors.\n",
    "X_statsmod = features[['Violent_Crime', 'Murder']]\n",
    "\n",
    "# The Statsmodels formulation requires a column with constant value 1 that\n",
    "# will act as the intercept.\n",
    "X_statsmod['intercept'] = 1 \n",
    "\n",
    "# Declare and fit the model.\n",
    "logit = sm.Logit(features['Population'], X_statsmod)\n",
    "result = logit.fit()\n",
    "\n",
    "# Lots of information about the model and its coefficients, but the\n",
    "# accuracy rate for predictions is missing.\n",
    "print(result.summary())"
   ]
  },
  {
   "cell_type": "code",
   "execution_count": 5,
   "metadata": {
    "collapsed": false
   },
   "outputs": [
    {
     "name": "stdout",
     "output_type": "stream",
     "text": [
      "\n",
      " Accuracy by population status\n",
      "col_0         0   1\n",
      "Population         \n",
      "0           266   3\n",
      "1             8  13\n",
      "\n",
      " Percentage accuracy\n",
      "0.962068965517\n"
     ]
    }
   ],
   "source": [
    "# Calculate accuracy. First, get probability that said crime will occur in a large population.\n",
    "pred_statsmod = result.predict(X_statsmod)\n",
    "\n",
    "# Code population as 1 if probability is greater than .5.\n",
    "pred_y_statsmod = np.where(pred_statsmod < .5, 0, 1)\n",
    "\n",
    "# Accuracy table.\n",
    "table = pd.crosstab(features['Population'], pred_y_statsmod)\n",
    "\n",
    "print('\\n Accuracy by population status')\n",
    "print(table)\n",
    "print('\\n Percentage accuracy')\n",
    "print((table.iloc[0,0] + table.iloc[1,1]) / (table.sum().sum()))"
   ]
  },
  {
   "cell_type": "code",
   "execution_count": 6,
   "metadata": {
    "collapsed": false
   },
   "outputs": [
    {
     "name": "stdout",
     "output_type": "stream",
     "text": [
      "\n",
      "R-squared simple model:\n",
      "0.743600344462\n",
      "\n",
      "R-squared complex model:\n",
      "0.743600344462\n",
      "\n",
      "Parameter Estimates for the same predictors for the small model and large model:\n",
      "[[-45.661 -45.661]\n",
      " [-0.000 -0.000]\n",
      " [-0.000 -0.000]\n",
      " [-0.120 -0.120]\n",
      " [-182.655 -182.655]\n",
      " [0.617 0.617]\n",
      " [-0.001 -0.001]\n",
      " [2679.598 2679.598]\n",
      " [45.666 45.666]\n",
      " [45.663 45.663]\n",
      " [45.664 45.664]\n",
      " [-0.002 -0.002]\n",
      " [0.002 0.002]\n",
      " [0.002 0.002]\n",
      " [0.001 0.001]\n",
      " [0.019 0.019]\n",
      " [-31996.876 -31996.876]]\n"
     ]
    }
   ],
   "source": [
    "# Define the training and test sizes.\n",
    "trainsize = int(features.shape[0] / 2)\n",
    "df_test = features.iloc[trainsize:, :].copy()\n",
    "df_train = features.iloc[:trainsize, :].copy()\n",
    "\n",
    "# Set up the regression model to predict defaults using all other\n",
    "# variables as features.\n",
    "regr1 = linear_model.LinearRegression()\n",
    "Y_train = df_train['Population'].values.reshape(-1, 1)\n",
    "X_train = df_train.loc[:, ~(df_train.columns).isin(['Population'])]\n",
    "regr1.fit(X_train, Y_train)\n",
    "print('\\nR-squared simple model:')\n",
    "print(regr1.score(X_train, Y_train))\n",
    "\n",
    "origparams = np.append(regr1.coef_, regr1.intercept_)\n",
    "\n",
    "# Re-run the model with the new features.\n",
    "regrBig = linear_model.LinearRegression()\n",
    "X_train2 = df_train.loc[:, ~(df_train.columns).isin(['Population'])]\n",
    "regrBig.fit(X_train2, Y_train)\n",
    "print('\\nR-squared complex model:')\n",
    "print(regrBig.score(X_train2, Y_train))\n",
    "\n",
    "# Store the new parameter estimates for the same features.\n",
    "newparams = np.append(\n",
    "    regrBig.coef_[0,0:(len(origparams)-1)],\n",
    "    regrBig.intercept_)\n",
    "\n",
    "print('\\nParameter Estimates for the same predictors for the small model '\n",
    "      'and large model:')\n",
    "compare = np.column_stack((origparams, newparams))\n",
    "prettycompare = np.array2string(\n",
    "    compare,\n",
    "    formatter={'float_kind':'{0:.3f}'.format})\n",
    "print(prettycompare)"
   ]
  },
  {
   "cell_type": "code",
   "execution_count": 7,
   "metadata": {
    "collapsed": false
   },
   "outputs": [
    {
     "name": "stdout",
     "output_type": "stream",
     "text": [
      "0.729964784374\n",
      "[ -1.00005326e-02   4.26363517e-07  -2.00092862e-10  -5.89128425e-02\n",
      "  -4.33069538e-02  -4.05482975e-04   4.57685116e-06   4.65527095e-03\n",
      "   1.35875276e-02   8.99032201e-03   1.07285717e-02  -1.96696612e-03\n",
      "   2.15427945e-03   2.22572403e-03   1.51432385e-03   1.34434104e-02]\n",
      "0.729964784374\n",
      "\n",
      "Parameter Estimates for the same predictors for the small model and large model:\n",
      "[[-0.010 -0.010]\n",
      " [0.000 0.000]\n",
      " [-0.000 -0.000]\n",
      " [-0.059 -0.059]\n",
      " [-0.043 -0.043]\n",
      " [-0.000 -0.000]\n",
      " [0.000 0.000]\n",
      " [0.005 0.005]\n",
      " [0.014 0.014]\n",
      " [0.009 0.009]\n",
      " [0.011 0.011]\n",
      " [-0.002 -0.002]\n",
      " [0.002 0.002]\n",
      " [0.002 0.002]\n",
      " [0.002 0.002]\n",
      " [0.013 0.013]]\n"
     ]
    }
   ],
   "source": [
    "# Fitting a ridge regression model. Alpha is the regularization\n",
    "# parameter (usually called lambda). As alpha gets larger, parameter\n",
    "# shrinkage grows more pronounced. Note that by convention, the\n",
    "# intercept is not regularized. Since we standardized the data\n",
    "# earlier, the intercept should be equal to zero and can be dropped.\n",
    "\n",
    "ridgeregr = linear_model.Ridge(alpha=10, fit_intercept=False) \n",
    "ridgeregr.fit(X_train, Y_train)\n",
    "print(ridgeregr.score(X_train, Y_train))\n",
    "origparams = ridgeregr.coef_[0]\n",
    "print(origparams)\n",
    "\n",
    "ridgeregrBig = linear_model.Ridge(alpha=10, fit_intercept=False)\n",
    "ridgeregrBig.fit(X_train2, Y_train)\n",
    "print(ridgeregrBig.score(X_train2, Y_train))\n",
    "newparams = ridgeregrBig.coef_[0, 0:len(origparams)]\n",
    "\n",
    "print('\\nParameter Estimates for the same predictors for the small model '\n",
    "      'and large model:')\n",
    "compare = np.column_stack((origparams, newparams))\n",
    "prettycompare = np.array2string(\n",
    "    compare,\n",
    "    formatter={'float_kind':'{0:.3f}'.format})\n",
    "print(prettycompare)"
   ]
  },
  {
   "cell_type": "markdown",
   "metadata": {},
   "source": [
    "## Ridge Regression"
   ]
  },
  {
   "cell_type": "code",
   "execution_count": 8,
   "metadata": {
    "collapsed": false
   },
   "outputs": [
    {
     "data": {
      "image/png": "[encoded data removed]",
      "text/plain": [
       "<matplotlib.figure.Figure at 0x10af4d588>"
      ]
     },
     "metadata": {},
     "output_type": "display_data"
    }
   ],
   "source": [
    "# Store estimates.\n",
    "estimates = np.append(ridgeregrBig.coef_, [10])\n",
    "\n",
    "# Storing legend information.\n",
    "labels = []\n",
    "\n",
    "#Run the model for many alphas.\n",
    "for lambd in range(1, 50, 2):\n",
    "    ridgeregrBig = linear_model.Ridge(alpha=lambd, fit_intercept=False)\n",
    "    ridgeregrBig.fit(X_train2, Y_train)\n",
    "    estimates = np.row_stack((\n",
    "        estimates,\n",
    "        np.append(ridgeregrBig.coef_,[lambd])))\n",
    "\n",
    "# Make the data pretty.\n",
    "estimates_df = pd.DataFrame(\n",
    "    estimates,\n",
    "    columns=list(X_train2.columns) + ['lambda'])\n",
    "estimates_df.sort_values(by='lambda', inplace=True, ascending=True)\n",
    "\n",
    "varstoplot = list(estimates_df.columns[:9,])\n",
    "\n",
    "# Plot a line for each parameter.\n",
    "for var in varstoplot:\n",
    "    plt.plot(estimates_df['lambda'], estimates_df[var])\n",
    "    labels.append(var)\n",
    "plt.xlabel('lambda')\n",
    "plt.ylabel('Parameter estimate size')\n",
    "plt.legend(labels)\n",
    "plt.show()"
   ]
  },
  {
   "cell_type": "markdown",
   "metadata": {},
   "source": [
    "## LASSO Regression"
   ]
  },
  {
   "cell_type": "code",
   "execution_count": 9,
   "metadata": {
    "collapsed": false
   },
   "outputs": [
    {
     "name": "stdout",
     "output_type": "stream",
     "text": [
      "R² for the model with few features:\n",
      "0.653583538375\n",
      "\n",
      "Parameter estimates for the model with few features:\n",
      "[ -6.77168498e-04   2.17434968e-07  -5.81216654e-11  -0.00000000e+00\n",
      "  -0.00000000e+00   8.14773436e-06   2.13961942e-07  -0.00000000e+00\n",
      "   0.00000000e+00  -0.00000000e+00  -0.00000000e+00   9.13899362e-05\n",
      "  -1.04282436e-05   1.14082477e-04  -0.00000000e+00   0.00000000e+00\n",
      "  -3.42018902e-01]\n",
      "\n",
      "R² for the model with many features:\n",
      "0.653583538375\n",
      "\n",
      "Parameter estimates for the model with many features:\n",
      "[ -6.77168498e-04   2.17434968e-07  -5.81216654e-11  -0.00000000e+00\n",
      "  -0.00000000e+00   8.14773436e-06   2.13961942e-07  -0.00000000e+00\n",
      "   0.00000000e+00  -0.00000000e+00  -0.00000000e+00   9.13899362e-05\n",
      "  -1.04282436e-05   1.14082477e-04  -0.00000000e+00   0.00000000e+00\n",
      "  -3.42018902e-01]\n"
     ]
    },
    {
     "name": "stderr",
     "output_type": "stream",
     "text": [
      "/anaconda/lib/python3.6/site-packages/sklearn/linear_model/coordinate_descent.py:484: ConvergenceWarning: Objective did not converge. You might want to increase the number of iterations. Fitting data with very small alpha may cause precision problems.\n",
      "  ConvergenceWarning)\n"
     ]
    }
   ],
   "source": [
    "# Small number of parameters.\n",
    "lass = linear_model.Lasso(alpha=.35)\n",
    "lassfit = lass.fit(X_train, Y_train)\n",
    "print('R² for the model with few features:')\n",
    "print(lass.score(X_train, Y_train))\n",
    "origparams = np.append(lassfit.coef_, lassfit.intercept_)\n",
    "print('\\nParameter estimates for the model with few features:')\n",
    "print(origparams)\n",
    "\n",
    "# Large number of parameters.\n",
    "lassBig = linear_model.Lasso(alpha=.35)\n",
    "lassBig.fit(X_train2, Y_train)\n",
    "print('\\nR² for the model with many features:')\n",
    "print(lassBig.score(X_train2, Y_train))\n",
    "origparams = np.append(lassBig.coef_, lassBig.intercept_)\n",
    "print('\\nParameter estimates for the model with many features:')\n",
    "print(origparams)"
   ]
  }
 ],
 "metadata": {
  "kernelspec": {
   "display_name": "Python 3",
   "language": "python",
   "name": "python3"
  },
  "language_info": {
   "codemirror_mode": {
    "name": "ipython",
    "version": 3
   },
   "file_extension": ".py",
   "mimetype": "text/x-python",
   "name": "python",
   "nbconvert_exporter": "python",
   "pygments_lexer": "ipython3",
   "version": "3.6.0"
  }
 },
 "nbformat": 4,
 "nbformat_minor": 2
}
